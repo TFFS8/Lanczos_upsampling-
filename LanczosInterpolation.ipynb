{
 "cells": [
  {
   "cell_type": "code",
   "execution_count": 1,
   "metadata": {},
   "outputs": [],
   "source": [
    "# libraries\n",
    "import numpy as np\n",
    "import matplotlib.pyplot as plt\n",
    "from PIL import Image\n",
    "import os"
   ]
  },
  {
   "cell_type": "code",
   "execution_count": 2,
   "metadata": {},
   "outputs": [
    {
     "name": "stdout",
     "output_type": "stream",
     "text": [
      "113\n",
      "113\n"
     ]
    }
   ],
   "source": [
    "# apply Lanczos upsampling *3 to a png image\n",
    "new = Image.open('C://Users//310304075//Desktop//0168l.png')\n",
    "width, height = new.size\n",
    "print (width)\n",
    "print (height)\n",
    "np_frame = np.array(new.getdata())\n",
    "res = new.resize((np.int(width*3),np.int(height*3)),Image.ANTIALIAS)"
   ]
  },
  {
   "cell_type": "code",
   "execution_count": 6,
   "metadata": {},
   "outputs": [],
   "source": [
    "# apply Lanczos upsampling *3 to a directory and save all the upsampled images\n",
    "i=1\n",
    "for filename in os.listdir('C://Users//310304075//Desktop//Lowres'):\n",
    "    new = Image.open('C://Users//310304075//Desktop//Lowres//'+ filename)\n",
    "    width, height = new.size\n",
    "    np_frame = np.array(new.getdata())\n",
    "    res = new.resize((np.int(width*3),np.int(height*3)),Image.ANTIALIAS)\n",
    "    res.save('C://Users//310304075//Desktop//Cardiac//CNICdata//Bic//bic0%d.png'% i)\n",
    "    i=i+1"
   ]
  }
 ],
 "metadata": {
  "kernelspec": {
   "display_name": "Python 3 (ipykernel)",
   "language": "python",
   "name": "python3"
  },
  "language_info": {
   "codemirror_mode": {
    "name": "ipython",
    "version": 3
   },
   "file_extension": ".py",
   "mimetype": "text/x-python",
   "name": "python",
   "nbconvert_exporter": "python",
   "pygments_lexer": "ipython3",
   "version": "3.9.7"
  }
 },
 "nbformat": 4,
 "nbformat_minor": 4
}
